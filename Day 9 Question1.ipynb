{
 "cells": [
  {
   "cell_type": "code",
   "execution_count": 3,
   "metadata": {},
   "outputs": [
    {
     "name": "stdout",
     "output_type": "stream",
     "text": [
      "Requirement already satisfied: pylint in f:\\program_files\\anaconda3\\lib\\site-packages (2.5.3)\n",
      "Requirement already satisfied: mccabe<0.7,>=0.6 in f:\\program_files\\anaconda3\\lib\\site-packages (from pylint) (0.6.1)\n",
      "Requirement already satisfied: isort<5,>=4.2.5 in f:\\program_files\\anaconda3\\lib\\site-packages (from pylint) (4.3.21)\n",
      "Requirement already satisfied: colorama; sys_platform == \"win32\" in f:\\program_files\\anaconda3\\lib\\site-packages (from pylint) (0.4.3)\n",
      "Requirement already satisfied: astroid<=2.5,>=2.4.0 in f:\\program_files\\anaconda3\\lib\\site-packages (from pylint) (2.4.2)\n",
      "Requirement already satisfied: toml>=0.7.1 in f:\\program_files\\anaconda3\\lib\\site-packages (from pylint) (0.10.1)\n",
      "Requirement already satisfied: wrapt~=1.11 in f:\\program_files\\anaconda3\\lib\\site-packages (from astroid<=2.5,>=2.4.0->pylint) (1.11.2)\n",
      "Requirement already satisfied: six~=1.12 in f:\\program_files\\anaconda3\\lib\\site-packages (from astroid<=2.5,>=2.4.0->pylint) (1.15.0)\n",
      "Requirement already satisfied: lazy-object-proxy==1.4.* in f:\\program_files\\anaconda3\\lib\\site-packages (from astroid<=2.5,>=2.4.0->pylint) (1.4.3)\n"
     ]
    }
   ],
   "source": [
    "! pip install pylint"
   ]
  },
  {
   "cell_type": "code",
   "execution_count": 4,
   "metadata": {},
   "outputs": [
    {
     "name": "stdout",
     "output_type": "stream",
     "text": [
      "Writing prime.py\n"
     ]
    }
   ],
   "source": [
    "%%writefile prime.py\n",
    "\n",
    "def isprime(num):\n",
    "    if num>1:\n",
    "        for i in range(2,num):\n",
    "            if num%i==0:\n",
    "                return False\n",
    "        else:\n",
    "            return True\n",
    "    else:\n",
    "        return True"
   ]
  },
  {
   "cell_type": "code",
   "execution_count": 5,
   "metadata": {},
   "outputs": [
    {
     "name": "stdout",
     "output_type": "stream",
     "text": [
      "************* Module prime\n",
      "prime.py:3:10: C0326: Exactly one space required around comparison\n",
      "    if num>1:\n",
      "\n",
      "          ^ (bad-whitespace)\n",
      "prime.py:4:24: C0326: Exactly one space required after comma\n",
      "        for i in range(2,num):\n",
      "\n",
      "                        ^ (bad-whitespace)\n",
      "prime.py:5:20: C0326: Exactly one space required around comparison\n",
      "            if num%i==0:\n",
      "\n",
      "                    ^^ (bad-whitespace)\n",
      "prime.py:1:0: C0114: Missing module docstring (missing-module-docstring)\n",
      "prime.py:2:0: C0116: Missing function or method docstring (missing-function-docstring)\n",
      "prime.py:7:8: W0120: Else clause on loop without a break statement (useless-else-on-loop)\n",
      "\n",
      "-----------------------------------\n",
      "\n",
      "Your code has been rated at 1.43/10\n",
      "\n",
      "\n",
      "\n"
     ]
    }
   ],
   "source": [
    "! pylint \"prime.py\""
   ]
  },
  {
   "cell_type": "code",
   "execution_count": 6,
   "metadata": {},
   "outputs": [
    {
     "name": "stdout",
     "output_type": "stream",
     "text": [
      "Overwriting prime.py\n"
     ]
    }
   ],
   "source": [
    "%%writefile prime.py\n",
    "'''\n",
    "this is to check prime number\n",
    "'''\n",
    "def isprime(num):\n",
    "    if num>1:\n",
    "        for i in range(2,num):\n",
    "            if num%i==0:\n",
    "                return False\n",
    "        else:\n",
    "            return True\n",
    "    else:\n",
    "        return True"
   ]
  },
  {
   "cell_type": "code",
   "execution_count": 7,
   "metadata": {},
   "outputs": [
    {
     "name": "stdout",
     "output_type": "stream",
     "text": [
      "************* Module prime\n",
      "prime.py:5:10: C0326: Exactly one space required around comparison\n",
      "    if num>1:\n",
      "\n",
      "          ^ (bad-whitespace)\n",
      "prime.py:6:24: C0326: Exactly one space required after comma\n",
      "        for i in range(2,num):\n",
      "\n",
      "                        ^ (bad-whitespace)\n",
      "prime.py:7:20: C0326: Exactly one space required around comparison\n",
      "            if num%i==0:\n",
      "\n",
      "                    ^^ (bad-whitespace)\n",
      "prime.py:4:0: C0116: Missing function or method docstring (missing-function-docstring)\n",
      "prime.py:9:8: W0120: Else clause on loop without a break statement (useless-else-on-loop)\n",
      "\n",
      "------------------------------------------------------------------\n",
      "\n",
      "Your code has been rated at 2.86/10 (previous run: 1.43/10, +1.43)\n",
      "\n",
      "\n",
      "\n"
     ]
    }
   ],
   "source": [
    "! pylint \"prime.py\"\n"
   ]
  },
  {
   "cell_type": "code",
   "execution_count": 8,
   "metadata": {},
   "outputs": [
    {
     "name": "stdout",
     "output_type": "stream",
     "text": [
      "Overwriting prime.py\n"
     ]
    }
   ],
   "source": [
    "%%writefile prime.py\n",
    "'''\n",
    "this is to check prime number\n",
    "'''\n",
    "def isprime(num):\n",
    "    if num > 1:\n",
    "        for i in range(2, num):\n",
    "            if num%i == 0:\n",
    "                return False\n",
    "        else:\n",
    "            return True\n",
    "    else:\n",
    "        return True"
   ]
  },
  {
   "cell_type": "code",
   "execution_count": 9,
   "metadata": {},
   "outputs": [
    {
     "name": "stdout",
     "output_type": "stream",
     "text": [
      "************* Module prime\n",
      "prime.py:4:0: C0116: Missing function or method docstring (missing-function-docstring)\n",
      "prime.py:9:8: W0120: Else clause on loop without a break statement (useless-else-on-loop)\n",
      "\n",
      "------------------------------------------------------------------\n",
      "\n",
      "Your code has been rated at 7.14/10 (previous run: 2.86/10, +4.29)\n",
      "\n",
      "\n",
      "\n"
     ]
    }
   ],
   "source": [
    "! pylint \"prime.py\""
   ]
  },
  {
   "cell_type": "code",
   "execution_count": 16,
   "metadata": {},
   "outputs": [
    {
     "name": "stdout",
     "output_type": "stream",
     "text": [
      "Overwriting prime.py\n"
     ]
    }
   ],
   "source": [
    "%%writefile prime.py\n",
    "'''\n",
    "this is to check prime number\n",
    "'''\n",
    "def isprime(num):\n",
    "    '''\n",
    "    returns true if number is prime\n",
    "    '''\n",
    "    if num > 1:\n",
    "        for i in range(2, num):\n",
    "            if num%i == 0:\n",
    "                return False\n",
    "        else:\n",
    "            return True\n",
    "    else:\n",
    "        return True"
   ]
  },
  {
   "cell_type": "code",
   "execution_count": 17,
   "metadata": {},
   "outputs": [
    {
     "name": "stdout",
     "output_type": "stream",
     "text": [
      "************* Module prime\n",
      "prime.py:12:8: W0120: Else clause on loop without a break statement (useless-else-on-loop)\n",
      "\n",
      "------------------------------------------------------------------\n",
      "\n",
      "Your code has been rated at 8.57/10 (previous run: 8.33/10, +0.24)\n",
      "\n",
      "\n",
      "\n"
     ]
    }
   ],
   "source": [
    "! pylint \"prime.py\""
   ]
  },
  {
   "cell_type": "code",
   "execution_count": 28,
   "metadata": {},
   "outputs": [
    {
     "name": "stdout",
     "output_type": "stream",
     "text": [
      "Overwriting prime.py\n"
     ]
    }
   ],
   "source": [
    "%%writefile prime.py\n",
    "'''\n",
    "this is to check prime number\n",
    "'''\n",
    "def isprime(num):\n",
    "    '''\n",
    "    returns true if number is prime\n",
    "    '''\n",
    "    if num > 1:\n",
    "        for i in range(2, num):\n",
    "            if num%i == 0:\n",
    "                return False\n",
    "        return True"
   ]
  },
  {
   "cell_type": "code",
   "execution_count": 29,
   "metadata": {},
   "outputs": [
    {
     "name": "stdout",
     "output_type": "stream",
     "text": [
      "************* Module prime\n",
      "prime.py:4:0: R1710: Either all return statements in a function should return an expression, or none of them should. (inconsistent-return-statements)\n",
      "\n",
      "------------------------------------------------------------------\n",
      "\n",
      "Your code has been rated at 8.33/10 (previous run: 8.33/10, +0.00)\n",
      "\n",
      "\n",
      "\n"
     ]
    }
   ],
   "source": [
    "! pylint \"prime.py\""
   ]
  },
  {
   "cell_type": "code",
   "execution_count": 32,
   "metadata": {},
   "outputs": [
    {
     "name": "stdout",
     "output_type": "stream",
     "text": [
      "Overwriting prime.py\n"
     ]
    }
   ],
   "source": [
    "%%writefile prime.py\n",
    "'''\n",
    "this is to check prime number\n",
    "'''\n",
    "def isprime(num):\n",
    "    '''\n",
    "    returns true if number is prime\n",
    "    '''\n",
    "    val = True\n",
    "    if num > 1:\n",
    "        for i in range(2, num):\n",
    "            if num%i == 0:\n",
    "                val = False\n",
    "    else:\n",
    "        val = False\n",
    "    return val"
   ]
  },
  {
   "cell_type": "code",
   "execution_count": 33,
   "metadata": {},
   "outputs": [
    {
     "name": "stdout",
     "output_type": "stream",
     "text": [
      "\n",
      "-------------------------------------------------------------------\n",
      "\n",
      "Your code has been rated at 10.00/10 (previous run: 8.57/10, +1.43)\n",
      "\n",
      "\n",
      "\n"
     ]
    }
   ],
   "source": [
    "! pylint \"prime.py\""
   ]
  },
  {
   "cell_type": "code",
   "execution_count": null,
   "metadata": {},
   "outputs": [],
   "source": []
  }
 ],
 "metadata": {
  "kernelspec": {
   "display_name": "Python 3",
   "language": "python",
   "name": "python3"
  },
  "language_info": {
   "codemirror_mode": {
    "name": "ipython",
    "version": 3
   },
   "file_extension": ".py",
   "mimetype": "text/x-python",
   "name": "python",
   "nbconvert_exporter": "python",
   "pygments_lexer": "ipython3",
   "version": "3.8.3"
  }
 },
 "nbformat": 4,
 "nbformat_minor": 4
}
